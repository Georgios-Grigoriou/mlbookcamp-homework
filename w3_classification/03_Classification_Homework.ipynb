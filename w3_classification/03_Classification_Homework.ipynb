{
 "cells": [
  {
   "cell_type": "markdown",
   "id": "981aa743",
   "metadata": {},
   "source": [
    "## Homework\n",
    "\n",
    "Note: sometimes your answer doesn't match one of the options exactly. That's fine. Select the option that's closest to your solution.\n",
    "\n",
    "Dataset\n",
    "In this homework, we will use the Car price dataset. Download it from here.\n",
    "\n",
    "Or you can do it with wget:\n",
    "\n",
    "wget https://raw.githubusercontent.com/alexeygrigorev/mlbookcamp-code/master/chapter-02-car-price/data.csv\n",
    "\n",
    "We'll keep working with the MSRP variable, and we'll transform it to a classification task.\n",
    "\n",
    "Features\n",
    "For the rest of the homework, you'll need to use only these columns:\n",
    "\n",
    "- Make,\n",
    "- Model,\n",
    "- Year,\n",
    "- Engine HP,\n",
    "- Engine Cylinders,\n",
    "- Transmission Type,\n",
    "- Vehicle Style,\n",
    "- highway MPG,\n",
    "- city\n",
    "- mpg\n"
   ]
  },
  {
   "cell_type": "markdown",
   "id": "69437ffd",
   "metadata": {},
   "source": [
    "**Data preparation**\n",
    "\n",
    "Select only the features from above and transform their names using next line:\n",
    "\n",
    "    data.columns = data.columns.str.replace(' ', '_').str.lower()\n",
    "\n",
    "- Fill in the missing values of the selected features with 0.\n",
    "- Rename MSRP variable to price."
   ]
  },
  {
   "cell_type": "code",
   "execution_count": 1,
   "id": "b243331c",
   "metadata": {},
   "outputs": [],
   "source": [
    "import numpy as np\n",
    "import pandas as pd\n",
    "import matplotlib.pyplot as plt\n",
    "import seaborn as sns\n",
    "from sklearn.model_selection import train_test_split\n",
    "\n",
    "%matplotlib inline"
   ]
  },
  {
   "cell_type": "code",
   "execution_count": 2,
   "id": "73979372",
   "metadata": {},
   "outputs": [],
   "source": [
    "# read dataset\n",
    "df_full=pd.read_csv(r'https://raw.githubusercontent.com/alexeygrigorev/mlbookcamp-code/master/chapter-02-car-price/data.csv')"
   ]
  },
  {
   "cell_type": "code",
   "execution_count": 3,
   "id": "2c26cc94",
   "metadata": {},
   "outputs": [
    {
     "data": {
      "text/html": [
       "<div>\n",
       "<style scoped>\n",
       "    .dataframe tbody tr th:only-of-type {\n",
       "        vertical-align: middle;\n",
       "    }\n",
       "\n",
       "    .dataframe tbody tr th {\n",
       "        vertical-align: top;\n",
       "    }\n",
       "\n",
       "    .dataframe thead th {\n",
       "        text-align: right;\n",
       "    }\n",
       "</style>\n",
       "<table border=\"1\" class=\"dataframe\">\n",
       "  <thead>\n",
       "    <tr style=\"text-align: right;\">\n",
       "      <th></th>\n",
       "      <th>Make</th>\n",
       "      <th>Model</th>\n",
       "      <th>Year</th>\n",
       "      <th>Engine Fuel Type</th>\n",
       "      <th>Engine HP</th>\n",
       "      <th>Engine Cylinders</th>\n",
       "      <th>Transmission Type</th>\n",
       "      <th>Driven_Wheels</th>\n",
       "      <th>Number of Doors</th>\n",
       "      <th>Market Category</th>\n",
       "      <th>Vehicle Size</th>\n",
       "      <th>Vehicle Style</th>\n",
       "      <th>highway MPG</th>\n",
       "      <th>city mpg</th>\n",
       "      <th>Popularity</th>\n",
       "      <th>MSRP</th>\n",
       "    </tr>\n",
       "  </thead>\n",
       "  <tbody>\n",
       "    <tr>\n",
       "      <th>0</th>\n",
       "      <td>BMW</td>\n",
       "      <td>1 Series M</td>\n",
       "      <td>2011</td>\n",
       "      <td>premium unleaded (required)</td>\n",
       "      <td>335.0</td>\n",
       "      <td>6.0</td>\n",
       "      <td>MANUAL</td>\n",
       "      <td>rear wheel drive</td>\n",
       "      <td>2.0</td>\n",
       "      <td>Factory Tuner,Luxury,High-Performance</td>\n",
       "      <td>Compact</td>\n",
       "      <td>Coupe</td>\n",
       "      <td>26</td>\n",
       "      <td>19</td>\n",
       "      <td>3916</td>\n",
       "      <td>46135</td>\n",
       "    </tr>\n",
       "    <tr>\n",
       "      <th>1</th>\n",
       "      <td>BMW</td>\n",
       "      <td>1 Series</td>\n",
       "      <td>2011</td>\n",
       "      <td>premium unleaded (required)</td>\n",
       "      <td>300.0</td>\n",
       "      <td>6.0</td>\n",
       "      <td>MANUAL</td>\n",
       "      <td>rear wheel drive</td>\n",
       "      <td>2.0</td>\n",
       "      <td>Luxury,Performance</td>\n",
       "      <td>Compact</td>\n",
       "      <td>Convertible</td>\n",
       "      <td>28</td>\n",
       "      <td>19</td>\n",
       "      <td>3916</td>\n",
       "      <td>40650</td>\n",
       "    </tr>\n",
       "    <tr>\n",
       "      <th>2</th>\n",
       "      <td>BMW</td>\n",
       "      <td>1 Series</td>\n",
       "      <td>2011</td>\n",
       "      <td>premium unleaded (required)</td>\n",
       "      <td>300.0</td>\n",
       "      <td>6.0</td>\n",
       "      <td>MANUAL</td>\n",
       "      <td>rear wheel drive</td>\n",
       "      <td>2.0</td>\n",
       "      <td>Luxury,High-Performance</td>\n",
       "      <td>Compact</td>\n",
       "      <td>Coupe</td>\n",
       "      <td>28</td>\n",
       "      <td>20</td>\n",
       "      <td>3916</td>\n",
       "      <td>36350</td>\n",
       "    </tr>\n",
       "    <tr>\n",
       "      <th>3</th>\n",
       "      <td>BMW</td>\n",
       "      <td>1 Series</td>\n",
       "      <td>2011</td>\n",
       "      <td>premium unleaded (required)</td>\n",
       "      <td>230.0</td>\n",
       "      <td>6.0</td>\n",
       "      <td>MANUAL</td>\n",
       "      <td>rear wheel drive</td>\n",
       "      <td>2.0</td>\n",
       "      <td>Luxury,Performance</td>\n",
       "      <td>Compact</td>\n",
       "      <td>Coupe</td>\n",
       "      <td>28</td>\n",
       "      <td>18</td>\n",
       "      <td>3916</td>\n",
       "      <td>29450</td>\n",
       "    </tr>\n",
       "    <tr>\n",
       "      <th>4</th>\n",
       "      <td>BMW</td>\n",
       "      <td>1 Series</td>\n",
       "      <td>2011</td>\n",
       "      <td>premium unleaded (required)</td>\n",
       "      <td>230.0</td>\n",
       "      <td>6.0</td>\n",
       "      <td>MANUAL</td>\n",
       "      <td>rear wheel drive</td>\n",
       "      <td>2.0</td>\n",
       "      <td>Luxury</td>\n",
       "      <td>Compact</td>\n",
       "      <td>Convertible</td>\n",
       "      <td>28</td>\n",
       "      <td>18</td>\n",
       "      <td>3916</td>\n",
       "      <td>34500</td>\n",
       "    </tr>\n",
       "  </tbody>\n",
       "</table>\n",
       "</div>"
      ],
      "text/plain": [
       "  Make       Model  Year             Engine Fuel Type  Engine HP  \\\n",
       "0  BMW  1 Series M  2011  premium unleaded (required)      335.0   \n",
       "1  BMW    1 Series  2011  premium unleaded (required)      300.0   \n",
       "2  BMW    1 Series  2011  premium unleaded (required)      300.0   \n",
       "3  BMW    1 Series  2011  premium unleaded (required)      230.0   \n",
       "4  BMW    1 Series  2011  premium unleaded (required)      230.0   \n",
       "\n",
       "   Engine Cylinders Transmission Type     Driven_Wheels  Number of Doors  \\\n",
       "0               6.0            MANUAL  rear wheel drive              2.0   \n",
       "1               6.0            MANUAL  rear wheel drive              2.0   \n",
       "2               6.0            MANUAL  rear wheel drive              2.0   \n",
       "3               6.0            MANUAL  rear wheel drive              2.0   \n",
       "4               6.0            MANUAL  rear wheel drive              2.0   \n",
       "\n",
       "                         Market Category Vehicle Size Vehicle Style  \\\n",
       "0  Factory Tuner,Luxury,High-Performance      Compact         Coupe   \n",
       "1                     Luxury,Performance      Compact   Convertible   \n",
       "2                Luxury,High-Performance      Compact         Coupe   \n",
       "3                     Luxury,Performance      Compact         Coupe   \n",
       "4                                 Luxury      Compact   Convertible   \n",
       "\n",
       "   highway MPG  city mpg  Popularity   MSRP  \n",
       "0           26        19        3916  46135  \n",
       "1           28        19        3916  40650  \n",
       "2           28        20        3916  36350  \n",
       "3           28        18        3916  29450  \n",
       "4           28        18        3916  34500  "
      ]
     },
     "execution_count": 3,
     "metadata": {},
     "output_type": "execute_result"
    }
   ],
   "source": [
    "df_full.head()"
   ]
  },
  {
   "cell_type": "markdown",
   "id": "9d53414c",
   "metadata": {},
   "source": [
    "### Data Preparation"
   ]
  },
  {
   "cell_type": "code",
   "execution_count": 4,
   "id": "b31a0160",
   "metadata": {},
   "outputs": [],
   "source": [
    "df_full.columns = df_full.columns.str.replace(' ', '_').str.lower()"
   ]
  },
  {
   "cell_type": "code",
   "execution_count": 5,
   "id": "3ecd29bb",
   "metadata": {},
   "outputs": [],
   "source": [
    "categorical_columns=df_full.dtypes[df_full.dtypes=='object'].index"
   ]
  },
  {
   "cell_type": "code",
   "execution_count": 6,
   "id": "f0eed55a",
   "metadata": {},
   "outputs": [],
   "source": [
    "for c in categorical_columns:\n",
    "    df_full[c]=df_full[c].str.replace(' ', '_').str.lower()"
   ]
  },
  {
   "cell_type": "code",
   "execution_count": 7,
   "id": "0e0ca8e9",
   "metadata": {},
   "outputs": [],
   "source": [
    "df_full['price']=df_full.msrp\n",
    "df_full.drop('msrp',axis=1,inplace=True)"
   ]
  },
  {
   "cell_type": "code",
   "execution_count": 8,
   "id": "73942da8",
   "metadata": {},
   "outputs": [
    {
     "data": {
      "text/html": [
       "<div>\n",
       "<style scoped>\n",
       "    .dataframe tbody tr th:only-of-type {\n",
       "        vertical-align: middle;\n",
       "    }\n",
       "\n",
       "    .dataframe tbody tr th {\n",
       "        vertical-align: top;\n",
       "    }\n",
       "\n",
       "    .dataframe thead th {\n",
       "        text-align: right;\n",
       "    }\n",
       "</style>\n",
       "<table border=\"1\" class=\"dataframe\">\n",
       "  <thead>\n",
       "    <tr style=\"text-align: right;\">\n",
       "      <th></th>\n",
       "      <th>make</th>\n",
       "      <th>model</th>\n",
       "      <th>year</th>\n",
       "      <th>engine_fuel_type</th>\n",
       "      <th>engine_hp</th>\n",
       "      <th>engine_cylinders</th>\n",
       "      <th>transmission_type</th>\n",
       "      <th>driven_wheels</th>\n",
       "      <th>number_of_doors</th>\n",
       "      <th>market_category</th>\n",
       "      <th>vehicle_size</th>\n",
       "      <th>vehicle_style</th>\n",
       "      <th>highway_mpg</th>\n",
       "      <th>city_mpg</th>\n",
       "      <th>popularity</th>\n",
       "      <th>price</th>\n",
       "    </tr>\n",
       "  </thead>\n",
       "  <tbody>\n",
       "    <tr>\n",
       "      <th>0</th>\n",
       "      <td>bmw</td>\n",
       "      <td>1_series_m</td>\n",
       "      <td>2011</td>\n",
       "      <td>premium_unleaded_(required)</td>\n",
       "      <td>335.0</td>\n",
       "      <td>6.0</td>\n",
       "      <td>manual</td>\n",
       "      <td>rear_wheel_drive</td>\n",
       "      <td>2.0</td>\n",
       "      <td>factory_tuner,luxury,high-performance</td>\n",
       "      <td>compact</td>\n",
       "      <td>coupe</td>\n",
       "      <td>26</td>\n",
       "      <td>19</td>\n",
       "      <td>3916</td>\n",
       "      <td>46135</td>\n",
       "    </tr>\n",
       "    <tr>\n",
       "      <th>1</th>\n",
       "      <td>bmw</td>\n",
       "      <td>1_series</td>\n",
       "      <td>2011</td>\n",
       "      <td>premium_unleaded_(required)</td>\n",
       "      <td>300.0</td>\n",
       "      <td>6.0</td>\n",
       "      <td>manual</td>\n",
       "      <td>rear_wheel_drive</td>\n",
       "      <td>2.0</td>\n",
       "      <td>luxury,performance</td>\n",
       "      <td>compact</td>\n",
       "      <td>convertible</td>\n",
       "      <td>28</td>\n",
       "      <td>19</td>\n",
       "      <td>3916</td>\n",
       "      <td>40650</td>\n",
       "    </tr>\n",
       "    <tr>\n",
       "      <th>2</th>\n",
       "      <td>bmw</td>\n",
       "      <td>1_series</td>\n",
       "      <td>2011</td>\n",
       "      <td>premium_unleaded_(required)</td>\n",
       "      <td>300.0</td>\n",
       "      <td>6.0</td>\n",
       "      <td>manual</td>\n",
       "      <td>rear_wheel_drive</td>\n",
       "      <td>2.0</td>\n",
       "      <td>luxury,high-performance</td>\n",
       "      <td>compact</td>\n",
       "      <td>coupe</td>\n",
       "      <td>28</td>\n",
       "      <td>20</td>\n",
       "      <td>3916</td>\n",
       "      <td>36350</td>\n",
       "    </tr>\n",
       "    <tr>\n",
       "      <th>3</th>\n",
       "      <td>bmw</td>\n",
       "      <td>1_series</td>\n",
       "      <td>2011</td>\n",
       "      <td>premium_unleaded_(required)</td>\n",
       "      <td>230.0</td>\n",
       "      <td>6.0</td>\n",
       "      <td>manual</td>\n",
       "      <td>rear_wheel_drive</td>\n",
       "      <td>2.0</td>\n",
       "      <td>luxury,performance</td>\n",
       "      <td>compact</td>\n",
       "      <td>coupe</td>\n",
       "      <td>28</td>\n",
       "      <td>18</td>\n",
       "      <td>3916</td>\n",
       "      <td>29450</td>\n",
       "    </tr>\n",
       "    <tr>\n",
       "      <th>4</th>\n",
       "      <td>bmw</td>\n",
       "      <td>1_series</td>\n",
       "      <td>2011</td>\n",
       "      <td>premium_unleaded_(required)</td>\n",
       "      <td>230.0</td>\n",
       "      <td>6.0</td>\n",
       "      <td>manual</td>\n",
       "      <td>rear_wheel_drive</td>\n",
       "      <td>2.0</td>\n",
       "      <td>luxury</td>\n",
       "      <td>compact</td>\n",
       "      <td>convertible</td>\n",
       "      <td>28</td>\n",
       "      <td>18</td>\n",
       "      <td>3916</td>\n",
       "      <td>34500</td>\n",
       "    </tr>\n",
       "  </tbody>\n",
       "</table>\n",
       "</div>"
      ],
      "text/plain": [
       "  make       model  year             engine_fuel_type  engine_hp  \\\n",
       "0  bmw  1_series_m  2011  premium_unleaded_(required)      335.0   \n",
       "1  bmw    1_series  2011  premium_unleaded_(required)      300.0   \n",
       "2  bmw    1_series  2011  premium_unleaded_(required)      300.0   \n",
       "3  bmw    1_series  2011  premium_unleaded_(required)      230.0   \n",
       "4  bmw    1_series  2011  premium_unleaded_(required)      230.0   \n",
       "\n",
       "   engine_cylinders transmission_type     driven_wheels  number_of_doors  \\\n",
       "0               6.0            manual  rear_wheel_drive              2.0   \n",
       "1               6.0            manual  rear_wheel_drive              2.0   \n",
       "2               6.0            manual  rear_wheel_drive              2.0   \n",
       "3               6.0            manual  rear_wheel_drive              2.0   \n",
       "4               6.0            manual  rear_wheel_drive              2.0   \n",
       "\n",
       "                         market_category vehicle_size vehicle_style  \\\n",
       "0  factory_tuner,luxury,high-performance      compact         coupe   \n",
       "1                     luxury,performance      compact   convertible   \n",
       "2                luxury,high-performance      compact         coupe   \n",
       "3                     luxury,performance      compact         coupe   \n",
       "4                                 luxury      compact   convertible   \n",
       "\n",
       "   highway_mpg  city_mpg  popularity  price  \n",
       "0           26        19        3916  46135  \n",
       "1           28        19        3916  40650  \n",
       "2           28        20        3916  36350  \n",
       "3           28        18        3916  29450  \n",
       "4           28        18        3916  34500  "
      ]
     },
     "execution_count": 8,
     "metadata": {},
     "output_type": "execute_result"
    }
   ],
   "source": [
    "df_full.head()"
   ]
  },
  {
   "cell_type": "markdown",
   "id": "d262f84e",
   "metadata": {},
   "source": [
    "**Question 1**\n",
    "\n",
    "What is the most frequent observation (mode) for the column transmission_type?\n",
    "\n",
    "- AUTOMATIC\n",
    "- MANUAL\n",
    "- AUTOMATED_MANUAL\n",
    "- DIRECT_DRIVE"
   ]
  },
  {
   "cell_type": "code",
   "execution_count": 9,
   "id": "0807c8d9",
   "metadata": {},
   "outputs": [],
   "source": [
    "df=df_full[[\n",
    "'make',\n",
    "'model',\n",
    "'year',\n",
    "'engine_hp',\n",
    "'engine_cylinders',\n",
    "'transmission_type',\n",
    "'vehicle_style',\n",
    "'highway_mpg',\n",
    "'city_mpg',\n",
    "'price'\n",
    "]]"
   ]
  },
  {
   "cell_type": "code",
   "execution_count": 10,
   "id": "3418d3aa",
   "metadata": {},
   "outputs": [
    {
     "name": "stdout",
     "output_type": "stream",
     "text": [
      "Missing Values Before Imputation\n"
     ]
    },
    {
     "data": {
      "text/plain": [
       "make                  0\n",
       "model                 0\n",
       "year                  0\n",
       "engine_hp            69\n",
       "engine_cylinders     30\n",
       "transmission_type     0\n",
       "vehicle_style         0\n",
       "highway_mpg           0\n",
       "city_mpg              0\n",
       "price                 0\n",
       "dtype: int64"
      ]
     },
     "execution_count": 10,
     "metadata": {},
     "output_type": "execute_result"
    }
   ],
   "source": [
    "print(\"Missing Values Before Imputation\")\n",
    "df.isnull().sum()"
   ]
  },
  {
   "cell_type": "code",
   "execution_count": 11,
   "id": "06c2e3ef",
   "metadata": {},
   "outputs": [
    {
     "data": {
      "text/plain": [
       "0    automatic\n",
       "Name: transmission_type, dtype: object"
      ]
     },
     "execution_count": 11,
     "metadata": {},
     "output_type": "execute_result"
    }
   ],
   "source": [
    "df.transmission_type.mode()"
   ]
  },
  {
   "cell_type": "code",
   "execution_count": 12,
   "id": "81196cbb",
   "metadata": {},
   "outputs": [],
   "source": [
    "df=df.fillna(0)"
   ]
  },
  {
   "cell_type": "code",
   "execution_count": 13,
   "id": "a39f5319",
   "metadata": {},
   "outputs": [
    {
     "name": "stdout",
     "output_type": "stream",
     "text": [
      "Missing Values After Imputation\n"
     ]
    },
    {
     "data": {
      "text/plain": [
       "make                 0\n",
       "model                0\n",
       "year                 0\n",
       "engine_hp            0\n",
       "engine_cylinders     0\n",
       "transmission_type    0\n",
       "vehicle_style        0\n",
       "highway_mpg          0\n",
       "city_mpg             0\n",
       "price                0\n",
       "dtype: int64"
      ]
     },
     "execution_count": 13,
     "metadata": {},
     "output_type": "execute_result"
    }
   ],
   "source": [
    "print(\"Missing Values After Imputation\")\n",
    "df.isnull().sum()"
   ]
  },
  {
   "cell_type": "code",
   "execution_count": 14,
   "id": "c50623c1",
   "metadata": {
    "scrolled": true
   },
   "outputs": [
    {
     "data": {
      "text/plain": [
       "transmission_type\n",
       "automatic           8266\n",
       "manual              2935\n",
       "automated_manual     626\n",
       "direct_drive          68\n",
       "unknown               19\n",
       "Name: count, dtype: int64"
      ]
     },
     "execution_count": 14,
     "metadata": {},
     "output_type": "execute_result"
    }
   ],
   "source": [
    "df.transmission_type.value_counts()"
   ]
  },
  {
   "cell_type": "code",
   "execution_count": 15,
   "id": "fb33b37b",
   "metadata": {},
   "outputs": [
    {
     "data": {
      "text/plain": [
       "make                  object\n",
       "model                 object\n",
       "year                   int64\n",
       "engine_hp            float64\n",
       "engine_cylinders     float64\n",
       "transmission_type     object\n",
       "vehicle_style         object\n",
       "highway_mpg            int64\n",
       "city_mpg               int64\n",
       "price                  int64\n",
       "dtype: object"
      ]
     },
     "execution_count": 15,
     "metadata": {},
     "output_type": "execute_result"
    }
   ],
   "source": [
    "df.dtypes"
   ]
  },
  {
   "cell_type": "code",
   "execution_count": 16,
   "id": "b23ef447",
   "metadata": {},
   "outputs": [],
   "source": [
    "## keep numeric values"
   ]
  },
  {
   "cell_type": "code",
   "execution_count": 17,
   "id": "35aaf833",
   "metadata": {},
   "outputs": [],
   "source": [
    "df_numeric=df.dtypes[df.dtypes!='object'].index"
   ]
  },
  {
   "cell_type": "code",
   "execution_count": 18,
   "id": "bd88e582",
   "metadata": {},
   "outputs": [
    {
     "data": {
      "image/png": "[encoded data removed]",
      "text/plain": [
       "<Figure size 1500x1000 with 2 Axes>"
      ]
     },
     "metadata": {},
     "output_type": "display_data"
    }
   ],
   "source": [
    "#@ INSPECTING HEATMAP:\n",
    "plt.figure(figsize=(15,10))  \n",
    "sns.heatmap(df[df_numeric].corr(),annot=True,linewidths=.7, cmap=\"Blues\")\n",
    "plt.title('Heatmap showing correlations between numerical data')\n",
    "plt.show()"
   ]
  },
  {
   "cell_type": "code",
   "execution_count": 19,
   "id": "b3f8687f",
   "metadata": {},
   "outputs": [
    {
     "data": {
      "text/html": [
       "<div>\n",
       "<style scoped>\n",
       "    .dataframe tbody tr th:only-of-type {\n",
       "        vertical-align: middle;\n",
       "    }\n",
       "\n",
       "    .dataframe tbody tr th {\n",
       "        vertical-align: top;\n",
       "    }\n",
       "\n",
       "    .dataframe thead th {\n",
       "        text-align: right;\n",
       "    }\n",
       "</style>\n",
       "<table border=\"1\" class=\"dataframe\">\n",
       "  <thead>\n",
       "    <tr style=\"text-align: right;\">\n",
       "      <th></th>\n",
       "      <th>year</th>\n",
       "      <th>engine_hp</th>\n",
       "      <th>engine_cylinders</th>\n",
       "      <th>highway_mpg</th>\n",
       "      <th>city_mpg</th>\n",
       "      <th>price</th>\n",
       "    </tr>\n",
       "  </thead>\n",
       "  <tbody>\n",
       "    <tr>\n",
       "      <th>year</th>\n",
       "      <td>1.000000</td>\n",
       "      <td>0.338714</td>\n",
       "      <td>-0.040708</td>\n",
       "      <td>0.258240</td>\n",
       "      <td>0.198171</td>\n",
       "      <td>0.227590</td>\n",
       "    </tr>\n",
       "    <tr>\n",
       "      <th>engine_hp</th>\n",
       "      <td>0.338714</td>\n",
       "      <td>1.000000</td>\n",
       "      <td>0.774851</td>\n",
       "      <td>-0.415707</td>\n",
       "      <td>-0.424918</td>\n",
       "      <td>0.650095</td>\n",
       "    </tr>\n",
       "    <tr>\n",
       "      <th>engine_cylinders</th>\n",
       "      <td>-0.040708</td>\n",
       "      <td>0.774851</td>\n",
       "      <td>1.000000</td>\n",
       "      <td>-0.614541</td>\n",
       "      <td>-0.587306</td>\n",
       "      <td>0.526274</td>\n",
       "    </tr>\n",
       "    <tr>\n",
       "      <th>highway_mpg</th>\n",
       "      <td>0.258240</td>\n",
       "      <td>-0.415707</td>\n",
       "      <td>-0.614541</td>\n",
       "      <td>1.000000</td>\n",
       "      <td>0.886829</td>\n",
       "      <td>-0.160043</td>\n",
       "    </tr>\n",
       "    <tr>\n",
       "      <th>city_mpg</th>\n",
       "      <td>0.198171</td>\n",
       "      <td>-0.424918</td>\n",
       "      <td>-0.587306</td>\n",
       "      <td>0.886829</td>\n",
       "      <td>1.000000</td>\n",
       "      <td>-0.157676</td>\n",
       "    </tr>\n",
       "    <tr>\n",
       "      <th>price</th>\n",
       "      <td>0.227590</td>\n",
       "      <td>0.650095</td>\n",
       "      <td>0.526274</td>\n",
       "      <td>-0.160043</td>\n",
       "      <td>-0.157676</td>\n",
       "      <td>1.000000</td>\n",
       "    </tr>\n",
       "  </tbody>\n",
       "</table>\n",
       "</div>"
      ],
      "text/plain": [
       "                      year  engine_hp  engine_cylinders  highway_mpg  \\\n",
       "year              1.000000   0.338714         -0.040708     0.258240   \n",
       "engine_hp         0.338714   1.000000          0.774851    -0.415707   \n",
       "engine_cylinders -0.040708   0.774851          1.000000    -0.614541   \n",
       "highway_mpg       0.258240  -0.415707         -0.614541     1.000000   \n",
       "city_mpg          0.198171  -0.424918         -0.587306     0.886829   \n",
       "price             0.227590   0.650095          0.526274    -0.160043   \n",
       "\n",
       "                  city_mpg     price  \n",
       "year              0.198171  0.227590  \n",
       "engine_hp        -0.424918  0.650095  \n",
       "engine_cylinders -0.587306  0.526274  \n",
       "highway_mpg       0.886829 -0.160043  \n",
       "city_mpg          1.000000 -0.157676  \n",
       "price            -0.157676  1.000000  "
      ]
     },
     "execution_count": 19,
     "metadata": {},
     "output_type": "execute_result"
    }
   ],
   "source": [
    "df[df_numeric].corr()"
   ]
  },
  {
   "cell_type": "code",
   "execution_count": 20,
   "id": "51075456",
   "metadata": {},
   "outputs": [
    {
     "data": {
      "text/plain": [
       "year         0.338714\n",
       "engine_hp    1.000000\n",
       "Name: engine_hp, dtype: float64"
      ]
     },
     "execution_count": 20,
     "metadata": {},
     "output_type": "execute_result"
    }
   ],
   "source": [
    "df[df_numeric].corr().loc[\"engine_hp\",\"year\":\"engine_hp\"]"
   ]
  },
  {
   "cell_type": "code",
   "execution_count": 21,
   "id": "d4620708",
   "metadata": {},
   "outputs": [
    {
     "data": {
      "text/plain": [
       "-0.4157071259973855"
      ]
     },
     "execution_count": 21,
     "metadata": {},
     "output_type": "execute_result"
    }
   ],
   "source": [
    "df[df_numeric].corr().loc[\"highway_mpg\",\"engine_hp\"]"
   ]
  },
  {
   "cell_type": "code",
   "execution_count": 22,
   "id": "8e4b1d05",
   "metadata": {},
   "outputs": [
    {
     "data": {
      "text/plain": [
       "0.8868294962591425"
      ]
     },
     "execution_count": 22,
     "metadata": {},
     "output_type": "execute_result"
    }
   ],
   "source": [
    "df[df_numeric].corr().loc[\"highway_mpg\",\"city_mpg\"]"
   ]
  },
  {
   "cell_type": "code",
   "execution_count": 23,
   "id": "4231380d",
   "metadata": {},
   "outputs": [
    {
     "data": {
      "text/plain": [
       "year              year                1.000000\n",
       "engine_hp         engine_hp           1.000000\n",
       "city_mpg          city_mpg            1.000000\n",
       "highway_mpg       highway_mpg         1.000000\n",
       "engine_cylinders  engine_cylinders    1.000000\n",
       "price             price               1.000000\n",
       "city_mpg          highway_mpg         0.886829\n",
       "highway_mpg       city_mpg            0.886829\n",
       "engine_hp         engine_cylinders    0.774851\n",
       "engine_cylinders  engine_hp           0.774851\n",
       "price             engine_hp           0.650095\n",
       "engine_hp         price               0.650095\n",
       "engine_cylinders  price               0.526274\n",
       "price             engine_cylinders    0.526274\n",
       "engine_hp         year                0.338714\n",
       "dtype: float64"
      ]
     },
     "execution_count": 23,
     "metadata": {},
     "output_type": "execute_result"
    }
   ],
   "source": [
    "df[df_numeric].corr().unstack().sort_values(ascending = False)[:15]"
   ]
  },
  {
   "cell_type": "markdown",
   "id": "687cc06f",
   "metadata": {},
   "source": [
    "The correct answer is highway_mpg city_mpg"
   ]
  },
  {
   "cell_type": "code",
   "execution_count": 24,
   "id": "1d5370a7",
   "metadata": {},
   "outputs": [],
   "source": [
    "df_train_full, df_test = train_test_split(df, test_size=0.2, random_state=42)\n",
    "df_train, df_val = train_test_split(df, test_size=0.25, random_state=42)"
   ]
  },
  {
   "cell_type": "code",
   "execution_count": 25,
   "id": "5c278829",
   "metadata": {},
   "outputs": [],
   "source": [
    "df_train = df_train.reset_index(drop=True)\n",
    "df_val = df_val.reset_index(drop=True)\n",
    "df_test = df_test.reset_index(drop=True)"
   ]
  },
  {
   "cell_type": "code",
   "execution_count": 26,
   "id": "09e89c3c",
   "metadata": {},
   "outputs": [],
   "source": [
    "#@ PROCESSING THE DATASET:\n",
    "y_train = df_train.price.values\n",
    "y_val = df_val.price.values\n",
    "y_test = df_test.price.values"
   ]
  },
  {
   "cell_type": "markdown",
   "id": "1e28005b",
   "metadata": {},
   "source": [
    "**Question 3**\n",
    "\n",
    "Calculate the mutual information score between above_average and other categorical variables in our dataset. Use the training set only.\n",
    "Round the scores to 2 decimals using round(score, 2).\n",
    "\n",
    "Which of these variables has the lowest mutual information score?\n",
    "\n",
    "- make\n",
    "- model\n",
    "- transmission_type\n",
    "- vehicle_style"
   ]
  },
  {
   "cell_type": "code",
   "execution_count": 27,
   "id": "2ab67456",
   "metadata": {},
   "outputs": [],
   "source": [
    "from sklearn.metrics import mutual_info_score"
   ]
  },
  {
   "cell_type": "code",
   "execution_count": 28,
   "id": "28a05a02",
   "metadata": {},
   "outputs": [
    {
     "data": {
      "text/html": [
       "<div>\n",
       "<style scoped>\n",
       "    .dataframe tbody tr th:only-of-type {\n",
       "        vertical-align: middle;\n",
       "    }\n",
       "\n",
       "    .dataframe tbody tr th {\n",
       "        vertical-align: top;\n",
       "    }\n",
       "\n",
       "    .dataframe thead th {\n",
       "        text-align: right;\n",
       "    }\n",
       "</style>\n",
       "<table border=\"1\" class=\"dataframe\">\n",
       "  <thead>\n",
       "    <tr style=\"text-align: right;\">\n",
       "      <th></th>\n",
       "      <th>MI</th>\n",
       "    </tr>\n",
       "  </thead>\n",
       "  <tbody>\n",
       "    <tr>\n",
       "      <th>model</th>\n",
       "      <td>5.514233</td>\n",
       "    </tr>\n",
       "    <tr>\n",
       "      <th>make</th>\n",
       "      <td>2.752448</td>\n",
       "    </tr>\n",
       "    <tr>\n",
       "      <th>vehicle_style</th>\n",
       "      <td>1.703935</td>\n",
       "    </tr>\n",
       "    <tr>\n",
       "      <th>transmission_type</th>\n",
       "      <td>0.583783</td>\n",
       "    </tr>\n",
       "  </tbody>\n",
       "</table>\n",
       "</div>"
      ],
      "text/plain": [
       "                         MI\n",
       "model              5.514233\n",
       "make               2.752448\n",
       "vehicle_style      1.703935\n",
       "transmission_type  0.583783"
      ]
     },
     "execution_count": 28,
     "metadata": {},
     "output_type": "execute_result"
    }
   ],
   "source": [
    "#@ PREPARING DATASET:\n",
    "cat = df_train.dtypes[df_train.dtypes=='object'].index\n",
    "\n",
    "#@ DEFINING FUNCTION:\n",
    "def calculate_mi(series):\n",
    "    return mutual_info_score(series, df_train.price)\n",
    "\n",
    "#@ IMPLEMENTATION:\n",
    "df_mi = df_train[cat].apply(calculate_mi)\n",
    "df_mi = df_mi.sort_values(ascending=False).to_frame(name='MI')\n",
    "df_mi"
   ]
  },
  {
   "cell_type": "markdown",
   "id": "bef51ad5",
   "metadata": {},
   "source": [
    "**Question 4**\n",
    "\n",
    "Now let's train a logistic regression.\n",
    "Remember that we have several categorical variables in the dataset. Include them using one-hot encoding.\n",
    "Fit the model on the training dataset.\n",
    "To make sure the results are reproducible across different versions of Scikit-Learn, fit the model with these parameters:\n",
    "model = LogisticRegression(solver='liblinear', C=10, max_iter=1000, random_state=42)\n",
    "Calculate the accuracy on the validation dataset and round it to 2 decimal digits.\n",
    "\n",
    "What accuracy did you get?\n",
    "\n",
    "- 0.60\n",
    "- 0.72\n",
    "- 0.84\n",
    "- 0.95"
   ]
  },
  {
   "cell_type": "code",
   "execution_count": 29,
   "id": "4fa26046",
   "metadata": {},
   "outputs": [],
   "source": [
    "df_train.drop('price',axis=1,inplace=True)\n",
    "df_val.drop('price',axis=1,inplace=True)\n",
    "df_test.drop('price',axis=1,inplace=True)"
   ]
  },
  {
   "cell_type": "code",
   "execution_count": 30,
   "id": "b20e45d1",
   "metadata": {},
   "outputs": [],
   "source": [
    "from sklearn.feature_extraction import DictVectorizer"
   ]
  },
  {
   "cell_type": "code",
   "execution_count": 38,
   "id": "38972f46",
   "metadata": {},
   "outputs": [],
   "source": [
    "num=list((df_train.dtypes!='object').index)\n",
    "cat=list((df_train.dtypes=='object').index)"
   ]
  },
  {
   "cell_type": "code",
   "execution_count": 39,
   "id": "a2abc9c5",
   "metadata": {},
   "outputs": [
    {
     "name": "stderr",
     "output_type": "stream",
     "text": [
      "C:\\Users\\ggrigoriou\\AppData\\Local\\Temp\\ipykernel_16192\\2170164272.py:3: UserWarning: DataFrame columns are not unique, some columns will be omitted.\n",
      "  train_dict = df_train[cat + num].to_dict(orient='records')\n"
     ]
    }
   ],
   "source": [
    "#@ TRANSFORMING THE DATASET:\n",
    "\n",
    "train_dict = df_train[cat + num].to_dict(orient='records')\n",
    "\n",
    "#@ VECTORIZING THE DATASET:\n",
    "dv = DictVectorizer(sparse=False)\n",
    "dv.fit(train_dict)\n",
    "X_train = dv.transform(train_dict)"
   ]
  },
  {
   "cell_type": "code",
   "execution_count": 44,
   "id": "ad04c580",
   "metadata": {},
   "outputs": [],
   "source": [
    "from sklearn.linear_model import LogisticRegression"
   ]
  },
  {
   "cell_type": "code",
   "execution_count": 45,
   "id": "2bff6ebd",
   "metadata": {},
   "outputs": [],
   "source": [
    "model = LogisticRegression(solver='liblinear', C=10, max_iter=1000, random_state=42)"
   ]
  },
  {
   "cell_type": "code",
   "execution_count": 46,
   "id": "2547b1a7",
   "metadata": {},
   "outputs": [
    {
     "data": {
      "text/plain": [
       "LogisticRegression(C=10, max_iter=1000, random_state=42, solver='liblinear')"
      ]
     },
     "execution_count": 46,
     "metadata": {},
     "output_type": "execute_result"
    }
   ],
   "source": [
    "model.fit(X_train,y_train)"
   ]
  },
  {
   "cell_type": "markdown",
   "id": "332bf4a0",
   "metadata": {},
   "source": [
    "**Question 5**\n",
    "\n",
    "Let's find the least useful feature using the feature elimination technique.\n",
    "Train a model with all these features (using the same parameters as in Q4).\n",
    "Now exclude each feature from this set and train a model without it. Record the accuracy for each model.\n",
    "For each feature, calculate the difference between the original accuracy and the accuracy without the feature.\n",
    "Which of following feature has the smallest difference?\n",
    "\n",
    "- year\n",
    "- engine_hp\n",
    "- transmission_type\n",
    "- city_mpg\n",
    "\n",
    "Note: the difference doesn't have to be positive"
   ]
  },
  {
   "cell_type": "markdown",
   "id": "83a7838b",
   "metadata": {},
   "source": [
    "**Question 6**\n",
    "\n",
    "For this question, we'll see how to use a linear regression model from Scikit-Learn.\n",
    "We'll need to use the original column price. Apply the logarithmic transformation to this column.\n",
    "Fit the Ridge regression model on the training data with a solver 'sag'. Set the seed to 42.\n",
    "This model also has a parameter alpha. Let's try the following values: [0, 0.01, 0.1, 1, 10].\n",
    "Round your RMSE scores to 3 decimal digits.\n",
    "Which of these alphas leads to the best RMSE on the validation set?\n",
    "\n",
    "- 0\n",
    "- 0.01\n",
    "- 0.1\n",
    "- 1\n",
    "- 10\n",
    "\n",
    "Note: If there are multiple options, select the smallest alpha."
   ]
  },
  {
   "cell_type": "code",
   "execution_count": null,
   "id": "4fd46b6f",
   "metadata": {},
   "outputs": [],
   "source": []
  }
 ],
 "metadata": {
  "kernelspec": {
   "display_name": "Python 3 (ipykernel)",
   "language": "python",
   "name": "python3"
  },
  "language_info": {
   "codemirror_mode": {
    "name": "ipython",
    "version": 3
   },
   "file_extension": ".py",
   "mimetype": "text/x-python",
   "name": "python",
   "nbconvert_exporter": "python",
   "pygments_lexer": "ipython3",
   "version": "3.9.13"
  }
 },
 "nbformat": 4,
 "nbformat_minor": 5
}
